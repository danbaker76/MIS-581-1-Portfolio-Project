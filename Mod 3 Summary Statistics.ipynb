{
 "cells": [
  {
   "cell_type": "code",
   "execution_count": 31,
   "id": "8b0d2377",
   "metadata": {
    "tags": []
   },
   "outputs": [],
   "source": [
    "import numpy as np\n",
    "import pandas as pd\n",
    "import matplotlib.pyplot as plt"
   ]
  },
  {
   "cell_type": "code",
   "execution_count": 2,
   "id": "b4036256",
   "metadata": {
    "tags": []
   },
   "outputs": [],
   "source": [
    "## Creating dataframes for the two datasets (pitching and hitting)\n",
    "df_pitching_2022 = pd.read_csv('Pitcher_Stats_2022.csv')\n",
    "df_pitching_2023 = pd.read_csv('Pitcher_Stats_2023.csv')\n",
    "df_hitting = pd.read_csv(\"Hitter_Stats_2022-2023.csv\")"
   ]
  },
  {
   "cell_type": "code",
   "execution_count": 3,
   "id": "ade7cef1",
   "metadata": {
    "tags": []
   },
   "outputs": [
    {
     "data": {
      "text/html": [
       "<div>\n",
       "<style scoped>\n",
       "    .dataframe tbody tr th:only-of-type {\n",
       "        vertical-align: middle;\n",
       "    }\n",
       "\n",
       "    .dataframe tbody tr th {\n",
       "        vertical-align: top;\n",
       "    }\n",
       "\n",
       "    .dataframe thead th {\n",
       "        text-align: right;\n",
       "    }\n",
       "</style>\n",
       "<table border=\"1\" class=\"dataframe\">\n",
       "  <thead>\n",
       "    <tr style=\"text-align: right;\">\n",
       "      <th></th>\n",
       "      <th>last_name, first_name</th>\n",
       "      <th>player_id</th>\n",
       "      <th>year</th>\n",
       "      <th>player_age</th>\n",
       "      <th>ab</th>\n",
       "      <th>pa</th>\n",
       "      <th>hit</th>\n",
       "      <th>single</th>\n",
       "      <th>double</th>\n",
       "      <th>triple</th>\n",
       "      <th>...</th>\n",
       "      <th>launch_angle_avg</th>\n",
       "      <th>sweet_spot_percent</th>\n",
       "      <th>barrel</th>\n",
       "      <th>barrel_batted_rate</th>\n",
       "      <th>solidcontact_percent</th>\n",
       "      <th>hard_hit_percent</th>\n",
       "      <th>meatball_percent</th>\n",
       "      <th>whiff_percent</th>\n",
       "      <th>swing_percent</th>\n",
       "      <th>batted_ball</th>\n",
       "    </tr>\n",
       "  </thead>\n",
       "  <tbody>\n",
       "    <tr>\n",
       "      <th>0</th>\n",
       "      <td>Pujols, Albert</td>\n",
       "      <td>405395</td>\n",
       "      <td>2022</td>\n",
       "      <td>42</td>\n",
       "      <td>307</td>\n",
       "      <td>351</td>\n",
       "      <td>83</td>\n",
       "      <td>45</td>\n",
       "      <td>14</td>\n",
       "      <td>0</td>\n",
       "      <td>...</td>\n",
       "      <td>16.4</td>\n",
       "      <td>34.5</td>\n",
       "      <td>31</td>\n",
       "      <td>12.0</td>\n",
       "      <td>7.0</td>\n",
       "      <td>47.3</td>\n",
       "      <td>6.7</td>\n",
       "      <td>21.3</td>\n",
       "      <td>48.2</td>\n",
       "      <td>258</td>\n",
       "    </tr>\n",
       "    <tr>\n",
       "      <th>1</th>\n",
       "      <td>Cabrera, Miguel</td>\n",
       "      <td>408234</td>\n",
       "      <td>2022</td>\n",
       "      <td>39</td>\n",
       "      <td>397</td>\n",
       "      <td>433</td>\n",
       "      <td>101</td>\n",
       "      <td>86</td>\n",
       "      <td>10</td>\n",
       "      <td>0</td>\n",
       "      <td>...</td>\n",
       "      <td>5.0</td>\n",
       "      <td>35.2</td>\n",
       "      <td>14</td>\n",
       "      <td>4.7</td>\n",
       "      <td>3.7</td>\n",
       "      <td>38.2</td>\n",
       "      <td>7.1</td>\n",
       "      <td>27.0</td>\n",
       "      <td>50.2</td>\n",
       "      <td>301</td>\n",
       "    </tr>\n",
       "    <tr>\n",
       "      <th>2</th>\n",
       "      <td>Molina, Yadier</td>\n",
       "      <td>425877</td>\n",
       "      <td>2022</td>\n",
       "      <td>39</td>\n",
       "      <td>262</td>\n",
       "      <td>270</td>\n",
       "      <td>56</td>\n",
       "      <td>43</td>\n",
       "      <td>8</td>\n",
       "      <td>0</td>\n",
       "      <td>...</td>\n",
       "      <td>16.9</td>\n",
       "      <td>34.1</td>\n",
       "      <td>7</td>\n",
       "      <td>3.1</td>\n",
       "      <td>4.9</td>\n",
       "      <td>26.0</td>\n",
       "      <td>7.1</td>\n",
       "      <td>22.0</td>\n",
       "      <td>58.6</td>\n",
       "      <td>223</td>\n",
       "    </tr>\n",
       "    <tr>\n",
       "      <th>3</th>\n",
       "      <td>Canó, Robinson</td>\n",
       "      <td>429664</td>\n",
       "      <td>2022</td>\n",
       "      <td>39</td>\n",
       "      <td>100</td>\n",
       "      <td>104</td>\n",
       "      <td>15</td>\n",
       "      <td>13</td>\n",
       "      <td>1</td>\n",
       "      <td>0</td>\n",
       "      <td>...</td>\n",
       "      <td>5.8</td>\n",
       "      <td>29.3</td>\n",
       "      <td>3</td>\n",
       "      <td>4.0</td>\n",
       "      <td>4.0</td>\n",
       "      <td>41.3</td>\n",
       "      <td>6.5</td>\n",
       "      <td>24.9</td>\n",
       "      <td>56.8</td>\n",
       "      <td>75</td>\n",
       "    </tr>\n",
       "    <tr>\n",
       "      <th>4</th>\n",
       "      <td>Suzuki, Kurt</td>\n",
       "      <td>435559</td>\n",
       "      <td>2022</td>\n",
       "      <td>38</td>\n",
       "      <td>139</td>\n",
       "      <td>159</td>\n",
       "      <td>25</td>\n",
       "      <td>17</td>\n",
       "      <td>4</td>\n",
       "      <td>0</td>\n",
       "      <td>...</td>\n",
       "      <td>24.1</td>\n",
       "      <td>31.0</td>\n",
       "      <td>4</td>\n",
       "      <td>3.5</td>\n",
       "      <td>7.1</td>\n",
       "      <td>26.5</td>\n",
       "      <td>10.6</td>\n",
       "      <td>21.1</td>\n",
       "      <td>48.1</td>\n",
       "      <td>113</td>\n",
       "    </tr>\n",
       "  </tbody>\n",
       "</table>\n",
       "<p>5 rows × 39 columns</p>\n",
       "</div>"
      ],
      "text/plain": [
       "  last_name, first_name  player_id  year  player_age   ab   pa  hit  single  \\\n",
       "0        Pujols, Albert     405395  2022          42  307  351   83      45   \n",
       "1       Cabrera, Miguel     408234  2022          39  397  433  101      86   \n",
       "2        Molina, Yadier     425877  2022          39  262  270   56      43   \n",
       "3        Canó, Robinson     429664  2022          39  100  104   15      13   \n",
       "4          Suzuki, Kurt     435559  2022          38  139  159   25      17   \n",
       "\n",
       "   double  triple  ...  launch_angle_avg  sweet_spot_percent  barrel  \\\n",
       "0      14       0  ...              16.4                34.5      31   \n",
       "1      10       0  ...               5.0                35.2      14   \n",
       "2       8       0  ...              16.9                34.1       7   \n",
       "3       1       0  ...               5.8                29.3       3   \n",
       "4       4       0  ...              24.1                31.0       4   \n",
       "\n",
       "   barrel_batted_rate  solidcontact_percent  hard_hit_percent  \\\n",
       "0                12.0                   7.0              47.3   \n",
       "1                 4.7                   3.7              38.2   \n",
       "2                 3.1                   4.9              26.0   \n",
       "3                 4.0                   4.0              41.3   \n",
       "4                 3.5                   7.1              26.5   \n",
       "\n",
       "   meatball_percent  whiff_percent  swing_percent  batted_ball  \n",
       "0               6.7           21.3           48.2          258  \n",
       "1               7.1           27.0           50.2          301  \n",
       "2               7.1           22.0           58.6          223  \n",
       "3               6.5           24.9           56.8           75  \n",
       "4              10.6           21.1           48.1          113  \n",
       "\n",
       "[5 rows x 39 columns]"
      ]
     },
     "execution_count": 3,
     "metadata": {},
     "output_type": "execute_result"
    }
   ],
   "source": [
    "## Looking at the headers and first 5 rows of the hitting dataset\n",
    "df_hitting.head(5)"
   ]
  },
  {
   "cell_type": "code",
   "execution_count": 4,
   "id": "ccfecf76",
   "metadata": {
    "tags": []
   },
   "outputs": [
    {
     "data": {
      "text/html": [
       "<div>\n",
       "<style scoped>\n",
       "    .dataframe tbody tr th:only-of-type {\n",
       "        vertical-align: middle;\n",
       "    }\n",
       "\n",
       "    .dataframe tbody tr th {\n",
       "        vertical-align: top;\n",
       "    }\n",
       "\n",
       "    .dataframe thead th {\n",
       "        text-align: right;\n",
       "    }\n",
       "</style>\n",
       "<table border=\"1\" class=\"dataframe\">\n",
       "  <thead>\n",
       "    <tr style=\"text-align: right;\">\n",
       "      <th></th>\n",
       "      <th>last_name, first_name</th>\n",
       "      <th>player_id</th>\n",
       "      <th>year</th>\n",
       "      <th>player_age</th>\n",
       "      <th>p_game</th>\n",
       "      <th>p_formatted_ip</th>\n",
       "      <th>pa</th>\n",
       "      <th>ab</th>\n",
       "      <th>hit</th>\n",
       "      <th>single</th>\n",
       "      <th>...</th>\n",
       "      <th>p_era</th>\n",
       "      <th>p_total_pickoff</th>\n",
       "      <th>p_total_pickoff_attempt</th>\n",
       "      <th>p_total_pickoff_error</th>\n",
       "      <th>woba</th>\n",
       "      <th>meatball_percent</th>\n",
       "      <th>whiff_percent</th>\n",
       "      <th>swing_percent</th>\n",
       "      <th>batted_ball</th>\n",
       "      <th>n</th>\n",
       "    </tr>\n",
       "  </thead>\n",
       "  <tbody>\n",
       "    <tr>\n",
       "      <th>0</th>\n",
       "      <td>Shaw, Bryan</td>\n",
       "      <td>543766</td>\n",
       "      <td>2022</td>\n",
       "      <td>34</td>\n",
       "      <td>60</td>\n",
       "      <td>58.1</td>\n",
       "      <td>261</td>\n",
       "      <td>230</td>\n",
       "      <td>58</td>\n",
       "      <td>38</td>\n",
       "      <td>...</td>\n",
       "      <td>5.40</td>\n",
       "      <td>0</td>\n",
       "      <td>3</td>\n",
       "      <td>0</td>\n",
       "      <td>0.332</td>\n",
       "      <td>8.9</td>\n",
       "      <td>21.7</td>\n",
       "      <td>47.5</td>\n",
       "      <td>179</td>\n",
       "      <td>969.0</td>\n",
       "    </tr>\n",
       "    <tr>\n",
       "      <th>1</th>\n",
       "      <td>Warren, Austin</td>\n",
       "      <td>681810</td>\n",
       "      <td>2022</td>\n",
       "      <td>26</td>\n",
       "      <td>14</td>\n",
       "      <td>16.0</td>\n",
       "      <td>70</td>\n",
       "      <td>62</td>\n",
       "      <td>19</td>\n",
       "      <td>10</td>\n",
       "      <td>...</td>\n",
       "      <td>5.63</td>\n",
       "      <td>0</td>\n",
       "      <td>1</td>\n",
       "      <td>0</td>\n",
       "      <td>0.369</td>\n",
       "      <td>8.6</td>\n",
       "      <td>17.2</td>\n",
       "      <td>48.1</td>\n",
       "      <td>56</td>\n",
       "      <td>266.0</td>\n",
       "    </tr>\n",
       "    <tr>\n",
       "      <th>2</th>\n",
       "      <td>Kremer, Dean</td>\n",
       "      <td>665152</td>\n",
       "      <td>2022</td>\n",
       "      <td>26</td>\n",
       "      <td>22</td>\n",
       "      <td>125.1</td>\n",
       "      <td>512</td>\n",
       "      <td>469</td>\n",
       "      <td>123</td>\n",
       "      <td>85</td>\n",
       "      <td>...</td>\n",
       "      <td>3.23</td>\n",
       "      <td>1</td>\n",
       "      <td>64</td>\n",
       "      <td>0</td>\n",
       "      <td>0.312</td>\n",
       "      <td>8.6</td>\n",
       "      <td>22.2</td>\n",
       "      <td>50.7</td>\n",
       "      <td>385</td>\n",
       "      <td>1947.0</td>\n",
       "    </tr>\n",
       "    <tr>\n",
       "      <th>3</th>\n",
       "      <td>Suarez, Robert</td>\n",
       "      <td>663158</td>\n",
       "      <td>2022</td>\n",
       "      <td>31</td>\n",
       "      <td>45</td>\n",
       "      <td>47.2</td>\n",
       "      <td>191</td>\n",
       "      <td>165</td>\n",
       "      <td>29</td>\n",
       "      <td>19</td>\n",
       "      <td>...</td>\n",
       "      <td>2.27</td>\n",
       "      <td>0</td>\n",
       "      <td>10</td>\n",
       "      <td>0</td>\n",
       "      <td>0.263</td>\n",
       "      <td>7.6</td>\n",
       "      <td>25.1</td>\n",
       "      <td>48.3</td>\n",
       "      <td>105</td>\n",
       "      <td>801.0</td>\n",
       "    </tr>\n",
       "    <tr>\n",
       "      <th>4</th>\n",
       "      <td>Springs, Jeffrey</td>\n",
       "      <td>605488</td>\n",
       "      <td>2022</td>\n",
       "      <td>29</td>\n",
       "      <td>33</td>\n",
       "      <td>135.1</td>\n",
       "      <td>549</td>\n",
       "      <td>513</td>\n",
       "      <td>114</td>\n",
       "      <td>78</td>\n",
       "      <td>...</td>\n",
       "      <td>2.46</td>\n",
       "      <td>3</td>\n",
       "      <td>65</td>\n",
       "      <td>0</td>\n",
       "      <td>0.272</td>\n",
       "      <td>6.7</td>\n",
       "      <td>29.5</td>\n",
       "      <td>50.3</td>\n",
       "      <td>371</td>\n",
       "      <td>2149.0</td>\n",
       "    </tr>\n",
       "  </tbody>\n",
       "</table>\n",
       "<p>5 rows × 35 columns</p>\n",
       "</div>"
      ],
      "text/plain": [
       "  last_name, first_name  player_id  year  player_age  p_game  p_formatted_ip  \\\n",
       "0           Shaw, Bryan     543766  2022          34      60            58.1   \n",
       "1        Warren, Austin     681810  2022          26      14            16.0   \n",
       "2          Kremer, Dean     665152  2022          26      22           125.1   \n",
       "3        Suarez, Robert     663158  2022          31      45            47.2   \n",
       "4      Springs, Jeffrey     605488  2022          29      33           135.1   \n",
       "\n",
       "    pa   ab  hit  single  ...  p_era  p_total_pickoff  \\\n",
       "0  261  230   58      38  ...   5.40                0   \n",
       "1   70   62   19      10  ...   5.63                0   \n",
       "2  512  469  123      85  ...   3.23                1   \n",
       "3  191  165   29      19  ...   2.27                0   \n",
       "4  549  513  114      78  ...   2.46                3   \n",
       "\n",
       "   p_total_pickoff_attempt  p_total_pickoff_error   woba  meatball_percent  \\\n",
       "0                        3                      0  0.332               8.9   \n",
       "1                        1                      0  0.369               8.6   \n",
       "2                       64                      0  0.312               8.6   \n",
       "3                       10                      0  0.263               7.6   \n",
       "4                       65                      0  0.272               6.7   \n",
       "\n",
       "   whiff_percent  swing_percent  batted_ball       n  \n",
       "0           21.7           47.5          179   969.0  \n",
       "1           17.2           48.1           56   266.0  \n",
       "2           22.2           50.7          385  1947.0  \n",
       "3           25.1           48.3          105   801.0  \n",
       "4           29.5           50.3          371  2149.0  \n",
       "\n",
       "[5 rows x 35 columns]"
      ]
     },
     "execution_count": 4,
     "metadata": {},
     "output_type": "execute_result"
    }
   ],
   "source": [
    "## Looking at the headers and first 5 rows of the pitching dataset\n",
    "df_pitching_2022.head(5)"
   ]
  },
  {
   "cell_type": "code",
   "execution_count": 5,
   "id": "e5dbd564",
   "metadata": {
    "tags": []
   },
   "outputs": [],
   "source": [
    "## Breaking each year into its own dataframe\n",
    "df_hitting_2022 = df_hitting[df_hitting['year'] == 2022]\n",
    "df_hitting_2023 = df_hitting[df_hitting['year'] == 2023]"
   ]
  },
  {
   "cell_type": "code",
   "execution_count": 6,
   "id": "8bc86930",
   "metadata": {
    "tags": []
   },
   "outputs": [
    {
     "data": {
      "text/html": [
       "<div>\n",
       "<style scoped>\n",
       "    .dataframe tbody tr th:only-of-type {\n",
       "        vertical-align: middle;\n",
       "    }\n",
       "\n",
       "    .dataframe tbody tr th {\n",
       "        vertical-align: top;\n",
       "    }\n",
       "\n",
       "    .dataframe thead th {\n",
       "        text-align: right;\n",
       "    }\n",
       "</style>\n",
       "<table border=\"1\" class=\"dataframe\">\n",
       "  <thead>\n",
       "    <tr style=\"text-align: right;\">\n",
       "      <th></th>\n",
       "      <th>batting_avg</th>\n",
       "      <th>on_base_percent</th>\n",
       "      <th>slg_percent</th>\n",
       "      <th>barrel_batted_rate</th>\n",
       "      <th>sweet_spot_percent</th>\n",
       "      <th>hard_hit_percent</th>\n",
       "    </tr>\n",
       "  </thead>\n",
       "  <tbody>\n",
       "    <tr>\n",
       "      <th>count</th>\n",
       "      <td>644.000000</td>\n",
       "      <td>644.000000</td>\n",
       "      <td>644.000000</td>\n",
       "      <td>644.000000</td>\n",
       "      <td>644.000000</td>\n",
       "      <td>644.000000</td>\n",
       "    </tr>\n",
       "    <tr>\n",
       "      <th>mean</th>\n",
       "      <td>0.223722</td>\n",
       "      <td>0.292099</td>\n",
       "      <td>0.354418</td>\n",
       "      <td>6.790062</td>\n",
       "      <td>32.680901</td>\n",
       "      <td>36.125621</td>\n",
       "    </tr>\n",
       "    <tr>\n",
       "      <th>std</th>\n",
       "      <td>0.058368</td>\n",
       "      <td>0.061232</td>\n",
       "      <td>0.107791</td>\n",
       "      <td>4.931108</td>\n",
       "      <td>6.725617</td>\n",
       "      <td>10.104589</td>\n",
       "    </tr>\n",
       "    <tr>\n",
       "      <th>min</th>\n",
       "      <td>0.000000</td>\n",
       "      <td>0.000000</td>\n",
       "      <td>0.000000</td>\n",
       "      <td>0.000000</td>\n",
       "      <td>0.000000</td>\n",
       "      <td>0.000000</td>\n",
       "    </tr>\n",
       "    <tr>\n",
       "      <th>25%</th>\n",
       "      <td>0.197750</td>\n",
       "      <td>0.264000</td>\n",
       "      <td>0.300000</td>\n",
       "      <td>3.400000</td>\n",
       "      <td>29.675000</td>\n",
       "      <td>30.800000</td>\n",
       "    </tr>\n",
       "    <tr>\n",
       "      <th>50%</th>\n",
       "      <td>0.231000</td>\n",
       "      <td>0.298000</td>\n",
       "      <td>0.367000</td>\n",
       "      <td>6.300000</td>\n",
       "      <td>33.300000</td>\n",
       "      <td>37.000000</td>\n",
       "    </tr>\n",
       "    <tr>\n",
       "      <th>75%</th>\n",
       "      <td>0.258250</td>\n",
       "      <td>0.326000</td>\n",
       "      <td>0.420500</td>\n",
       "      <td>9.800000</td>\n",
       "      <td>36.200000</td>\n",
       "      <td>42.400000</td>\n",
       "    </tr>\n",
       "    <tr>\n",
       "      <th>max</th>\n",
       "      <td>0.667000</td>\n",
       "      <td>0.700000</td>\n",
       "      <td>0.846000</td>\n",
       "      <td>37.500000</td>\n",
       "      <td>75.000000</td>\n",
       "      <td>100.000000</td>\n",
       "    </tr>\n",
       "  </tbody>\n",
       "</table>\n",
       "</div>"
      ],
      "text/plain": [
       "       batting_avg  on_base_percent  slg_percent  barrel_batted_rate  \\\n",
       "count   644.000000       644.000000   644.000000          644.000000   \n",
       "mean      0.223722         0.292099     0.354418            6.790062   \n",
       "std       0.058368         0.061232     0.107791            4.931108   \n",
       "min       0.000000         0.000000     0.000000            0.000000   \n",
       "25%       0.197750         0.264000     0.300000            3.400000   \n",
       "50%       0.231000         0.298000     0.367000            6.300000   \n",
       "75%       0.258250         0.326000     0.420500            9.800000   \n",
       "max       0.667000         0.700000     0.846000           37.500000   \n",
       "\n",
       "       sweet_spot_percent  hard_hit_percent  \n",
       "count          644.000000        644.000000  \n",
       "mean            32.680901         36.125621  \n",
       "std              6.725617         10.104589  \n",
       "min              0.000000          0.000000  \n",
       "25%             29.675000         30.800000  \n",
       "50%             33.300000         37.000000  \n",
       "75%             36.200000         42.400000  \n",
       "max             75.000000        100.000000  "
      ]
     },
     "execution_count": 6,
     "metadata": {},
     "output_type": "execute_result"
    }
   ],
   "source": [
    "## Generating Descriptive Statistics for Relevant Columns (for 2022 hitters)\n",
    "df_hitting_2022[['batting_avg','on_base_percent','slg_percent','barrel_batted_rate',\n",
    "                 'sweet_spot_percent','hard_hit_percent']].describe()"
   ]
  },
  {
   "cell_type": "code",
   "execution_count": 7,
   "id": "dcfc1167",
   "metadata": {
    "tags": []
   },
   "outputs": [
    {
     "data": {
      "text/html": [
       "<div>\n",
       "<style scoped>\n",
       "    .dataframe tbody tr th:only-of-type {\n",
       "        vertical-align: middle;\n",
       "    }\n",
       "\n",
       "    .dataframe tbody tr th {\n",
       "        vertical-align: top;\n",
       "    }\n",
       "\n",
       "    .dataframe thead th {\n",
       "        text-align: right;\n",
       "    }\n",
       "</style>\n",
       "<table border=\"1\" class=\"dataframe\">\n",
       "  <thead>\n",
       "    <tr style=\"text-align: right;\">\n",
       "      <th></th>\n",
       "      <th>batting_avg</th>\n",
       "      <th>on_base_percent</th>\n",
       "      <th>slg_percent</th>\n",
       "      <th>barrel_batted_rate</th>\n",
       "      <th>sweet_spot_percent</th>\n",
       "      <th>hard_hit_percent</th>\n",
       "    </tr>\n",
       "  </thead>\n",
       "  <tbody>\n",
       "    <tr>\n",
       "      <th>count</th>\n",
       "      <td>623.000000</td>\n",
       "      <td>623.000000</td>\n",
       "      <td>623.000000</td>\n",
       "      <td>623.000000</td>\n",
       "      <td>623.000000</td>\n",
       "      <td>623.000000</td>\n",
       "    </tr>\n",
       "    <tr>\n",
       "      <th>mean</th>\n",
       "      <td>0.231177</td>\n",
       "      <td>0.302002</td>\n",
       "      <td>0.376161</td>\n",
       "      <td>7.256661</td>\n",
       "      <td>32.751525</td>\n",
       "      <td>37.358106</td>\n",
       "    </tr>\n",
       "    <tr>\n",
       "      <th>std</th>\n",
       "      <td>0.052714</td>\n",
       "      <td>0.057400</td>\n",
       "      <td>0.106689</td>\n",
       "      <td>4.857829</td>\n",
       "      <td>6.508302</td>\n",
       "      <td>9.834484</td>\n",
       "    </tr>\n",
       "    <tr>\n",
       "      <th>min</th>\n",
       "      <td>0.000000</td>\n",
       "      <td>0.000000</td>\n",
       "      <td>0.000000</td>\n",
       "      <td>0.000000</td>\n",
       "      <td>0.000000</td>\n",
       "      <td>5.000000</td>\n",
       "    </tr>\n",
       "    <tr>\n",
       "      <th>25%</th>\n",
       "      <td>0.208000</td>\n",
       "      <td>0.275000</td>\n",
       "      <td>0.319000</td>\n",
       "      <td>3.800000</td>\n",
       "      <td>29.600000</td>\n",
       "      <td>31.350000</td>\n",
       "    </tr>\n",
       "    <tr>\n",
       "      <th>50%</th>\n",
       "      <td>0.237000</td>\n",
       "      <td>0.308000</td>\n",
       "      <td>0.381000</td>\n",
       "      <td>6.900000</td>\n",
       "      <td>33.300000</td>\n",
       "      <td>38.400000</td>\n",
       "    </tr>\n",
       "    <tr>\n",
       "      <th>75%</th>\n",
       "      <td>0.262000</td>\n",
       "      <td>0.333000</td>\n",
       "      <td>0.445000</td>\n",
       "      <td>10.300000</td>\n",
       "      <td>36.500000</td>\n",
       "      <td>43.900000</td>\n",
       "    </tr>\n",
       "    <tr>\n",
       "      <th>max</th>\n",
       "      <td>0.500000</td>\n",
       "      <td>0.600000</td>\n",
       "      <td>0.846000</td>\n",
       "      <td>29.400000</td>\n",
       "      <td>57.100000</td>\n",
       "      <td>80.000000</td>\n",
       "    </tr>\n",
       "  </tbody>\n",
       "</table>\n",
       "</div>"
      ],
      "text/plain": [
       "       batting_avg  on_base_percent  slg_percent  barrel_batted_rate  \\\n",
       "count   623.000000       623.000000   623.000000          623.000000   \n",
       "mean      0.231177         0.302002     0.376161            7.256661   \n",
       "std       0.052714         0.057400     0.106689            4.857829   \n",
       "min       0.000000         0.000000     0.000000            0.000000   \n",
       "25%       0.208000         0.275000     0.319000            3.800000   \n",
       "50%       0.237000         0.308000     0.381000            6.900000   \n",
       "75%       0.262000         0.333000     0.445000           10.300000   \n",
       "max       0.500000         0.600000     0.846000           29.400000   \n",
       "\n",
       "       sweet_spot_percent  hard_hit_percent  \n",
       "count          623.000000        623.000000  \n",
       "mean            32.751525         37.358106  \n",
       "std              6.508302          9.834484  \n",
       "min              0.000000          5.000000  \n",
       "25%             29.600000         31.350000  \n",
       "50%             33.300000         38.400000  \n",
       "75%             36.500000         43.900000  \n",
       "max             57.100000         80.000000  "
      ]
     },
     "execution_count": 7,
     "metadata": {},
     "output_type": "execute_result"
    }
   ],
   "source": [
    "## Generating Descriptive Statistics for Relevant Columns (for 2023 hitters)\n",
    "df_hitting_2023[['batting_avg','on_base_percent','slg_percent','barrel_batted_rate',\n",
    "                 'sweet_spot_percent','hard_hit_percent']].describe()"
   ]
  },
  {
   "cell_type": "code",
   "execution_count": 8,
   "id": "c817d86a",
   "metadata": {
    "tags": []
   },
   "outputs": [
    {
     "data": {
      "text/html": [
       "<div>\n",
       "<style scoped>\n",
       "    .dataframe tbody tr th:only-of-type {\n",
       "        vertical-align: middle;\n",
       "    }\n",
       "\n",
       "    .dataframe tbody tr th {\n",
       "        vertical-align: top;\n",
       "    }\n",
       "\n",
       "    .dataframe thead th {\n",
       "        text-align: right;\n",
       "    }\n",
       "</style>\n",
       "<table border=\"1\" class=\"dataframe\">\n",
       "  <thead>\n",
       "    <tr style=\"text-align: right;\">\n",
       "      <th></th>\n",
       "      <th>p_era</th>\n",
       "      <th>strikeout</th>\n",
       "      <th>p_wild_pitch</th>\n",
       "      <th>p_balk</th>\n",
       "    </tr>\n",
       "  </thead>\n",
       "  <tbody>\n",
       "    <tr>\n",
       "      <th>count</th>\n",
       "      <td>805.000000</td>\n",
       "      <td>805.000000</td>\n",
       "      <td>805.000000</td>\n",
       "      <td>805.000000</td>\n",
       "    </tr>\n",
       "    <tr>\n",
       "      <th>mean</th>\n",
       "      <td>4.935913</td>\n",
       "      <td>50.654658</td>\n",
       "      <td>1.990062</td>\n",
       "      <td>0.151553</td>\n",
       "    </tr>\n",
       "    <tr>\n",
       "      <th>std</th>\n",
       "      <td>3.792620</td>\n",
       "      <td>49.243759</td>\n",
       "      <td>2.296959</td>\n",
       "      <td>0.431229</td>\n",
       "    </tr>\n",
       "    <tr>\n",
       "      <th>min</th>\n",
       "      <td>0.000000</td>\n",
       "      <td>0.000000</td>\n",
       "      <td>0.000000</td>\n",
       "      <td>0.000000</td>\n",
       "    </tr>\n",
       "    <tr>\n",
       "      <th>25%</th>\n",
       "      <td>3.100000</td>\n",
       "      <td>12.000000</td>\n",
       "      <td>0.000000</td>\n",
       "      <td>0.000000</td>\n",
       "    </tr>\n",
       "    <tr>\n",
       "      <th>50%</th>\n",
       "      <td>4.120000</td>\n",
       "      <td>37.000000</td>\n",
       "      <td>1.000000</td>\n",
       "      <td>0.000000</td>\n",
       "    </tr>\n",
       "    <tr>\n",
       "      <th>75%</th>\n",
       "      <td>5.630000</td>\n",
       "      <td>72.000000</td>\n",
       "      <td>3.000000</td>\n",
       "      <td>0.000000</td>\n",
       "    </tr>\n",
       "    <tr>\n",
       "      <th>max</th>\n",
       "      <td>45.000000</td>\n",
       "      <td>257.000000</td>\n",
       "      <td>15.000000</td>\n",
       "      <td>3.000000</td>\n",
       "    </tr>\n",
       "  </tbody>\n",
       "</table>\n",
       "</div>"
      ],
      "text/plain": [
       "            p_era   strikeout  p_wild_pitch      p_balk\n",
       "count  805.000000  805.000000    805.000000  805.000000\n",
       "mean     4.935913   50.654658      1.990062    0.151553\n",
       "std      3.792620   49.243759      2.296959    0.431229\n",
       "min      0.000000    0.000000      0.000000    0.000000\n",
       "25%      3.100000   12.000000      0.000000    0.000000\n",
       "50%      4.120000   37.000000      1.000000    0.000000\n",
       "75%      5.630000   72.000000      3.000000    0.000000\n",
       "max     45.000000  257.000000     15.000000    3.000000"
      ]
     },
     "execution_count": 8,
     "metadata": {},
     "output_type": "execute_result"
    }
   ],
   "source": [
    "## Generating Descriptive Statistics for Relevant Columns (for 2022 pitchers)\n",
    "df_pitching_2022[['p_era','strikeout','p_wild_pitch','p_balk']].describe()"
   ]
  },
  {
   "cell_type": "code",
   "execution_count": 9,
   "id": "de6e555f",
   "metadata": {
    "tags": []
   },
   "outputs": [
    {
     "data": {
      "text/html": [
       "<div>\n",
       "<style scoped>\n",
       "    .dataframe tbody tr th:only-of-type {\n",
       "        vertical-align: middle;\n",
       "    }\n",
       "\n",
       "    .dataframe tbody tr th {\n",
       "        vertical-align: top;\n",
       "    }\n",
       "\n",
       "    .dataframe thead th {\n",
       "        text-align: right;\n",
       "    }\n",
       "</style>\n",
       "<table border=\"1\" class=\"dataframe\">\n",
       "  <thead>\n",
       "    <tr style=\"text-align: right;\">\n",
       "      <th></th>\n",
       "      <th>p_era</th>\n",
       "      <th>strikeout</th>\n",
       "      <th>p_wild_pitch</th>\n",
       "      <th>p_balk</th>\n",
       "    </tr>\n",
       "  </thead>\n",
       "  <tbody>\n",
       "    <tr>\n",
       "      <th>count</th>\n",
       "      <td>808.000000</td>\n",
       "      <td>808.000000</td>\n",
       "      <td>808.000000</td>\n",
       "      <td>808.000000</td>\n",
       "    </tr>\n",
       "    <tr>\n",
       "      <th>mean</th>\n",
       "      <td>5.355817</td>\n",
       "      <td>51.735149</td>\n",
       "      <td>1.991337</td>\n",
       "      <td>0.257426</td>\n",
       "    </tr>\n",
       "    <tr>\n",
       "      <th>std</th>\n",
       "      <td>3.945493</td>\n",
       "      <td>50.261119</td>\n",
       "      <td>2.340034</td>\n",
       "      <td>0.618243</td>\n",
       "    </tr>\n",
       "    <tr>\n",
       "      <th>min</th>\n",
       "      <td>0.000000</td>\n",
       "      <td>0.000000</td>\n",
       "      <td>0.000000</td>\n",
       "      <td>0.000000</td>\n",
       "    </tr>\n",
       "    <tr>\n",
       "      <th>25%</th>\n",
       "      <td>3.470000</td>\n",
       "      <td>12.000000</td>\n",
       "      <td>0.000000</td>\n",
       "      <td>0.000000</td>\n",
       "    </tr>\n",
       "    <tr>\n",
       "      <th>50%</th>\n",
       "      <td>4.500000</td>\n",
       "      <td>38.000000</td>\n",
       "      <td>1.000000</td>\n",
       "      <td>0.000000</td>\n",
       "    </tr>\n",
       "    <tr>\n",
       "      <th>75%</th>\n",
       "      <td>5.952500</td>\n",
       "      <td>73.000000</td>\n",
       "      <td>3.000000</td>\n",
       "      <td>0.000000</td>\n",
       "    </tr>\n",
       "    <tr>\n",
       "      <th>max</th>\n",
       "      <td>37.800000</td>\n",
       "      <td>281.000000</td>\n",
       "      <td>14.000000</td>\n",
       "      <td>5.000000</td>\n",
       "    </tr>\n",
       "  </tbody>\n",
       "</table>\n",
       "</div>"
      ],
      "text/plain": [
       "            p_era   strikeout  p_wild_pitch      p_balk\n",
       "count  808.000000  808.000000    808.000000  808.000000\n",
       "mean     5.355817   51.735149      1.991337    0.257426\n",
       "std      3.945493   50.261119      2.340034    0.618243\n",
       "min      0.000000    0.000000      0.000000    0.000000\n",
       "25%      3.470000   12.000000      0.000000    0.000000\n",
       "50%      4.500000   38.000000      1.000000    0.000000\n",
       "75%      5.952500   73.000000      3.000000    0.000000\n",
       "max     37.800000  281.000000     14.000000    5.000000"
      ]
     },
     "execution_count": 9,
     "metadata": {},
     "output_type": "execute_result"
    }
   ],
   "source": [
    "## Generating Descriptive Statistics for Relevant Columns (for 2023 pitchers)\n",
    "df_pitching_2023[['p_era','strikeout','p_wild_pitch','p_balk']].describe()"
   ]
  },
  {
   "cell_type": "code",
   "execution_count": 10,
   "id": "62bd2e93",
   "metadata": {
    "tags": []
   },
   "outputs": [
    {
     "data": {
      "text/plain": [
       "array([[<Axes: title={'center': 'p_era'}>]], dtype=object)"
      ]
     },
     "execution_count": 10,
     "metadata": {},
     "output_type": "execute_result"
    },
    {
     "data": {
      "image/png": "[encoded data removed]",
      "text/plain": [
       "<Figure size 640x480 with 1 Axes>"
      ]
     },
     "metadata": {},
     "output_type": "display_data"
    }
   ],
   "source": [
    "## Histogram of ERA (2022)\n",
    "df_pitching_2022[df_pitching_2022['p_era'] < 25].hist(column='p_era',bins=30)"
   ]
  },
  {
   "cell_type": "code",
   "execution_count": 11,
   "id": "547c7f4f",
   "metadata": {
    "tags": []
   },
   "outputs": [
    {
     "data": {
      "text/plain": [
       "array([[<Axes: title={'center': 'p_era'}>]], dtype=object)"
      ]
     },
     "execution_count": 11,
     "metadata": {},
     "output_type": "execute_result"
    },
    {
     "data": {
      "image/png": "[encoded data removed]",
      "text/plain": [
       "<Figure size 640x480 with 1 Axes>"
      ]
     },
     "metadata": {},
     "output_type": "display_data"
    }
   ],
   "source": [
    "## Histogram of ERA (2023)\n",
    "df_pitching_2023[df_pitching_2023['p_era'] < 25].hist(column='p_era',bins=30)"
   ]
  },
  {
   "cell_type": "code",
   "execution_count": 12,
   "id": "1379abf0",
   "metadata": {
    "tags": []
   },
   "outputs": [
    {
     "data": {
      "text/plain": [
       "<Axes: title={'center': 'batting_avg'}, xlabel='year'>"
      ]
     },
     "execution_count": 12,
     "metadata": {},
     "output_type": "execute_result"
    },
    {
     "data": {
      "image/png": "[encoded data removed]",
      "text/plain": [
       "<Figure size 640x480 with 1 Axes>"
      ]
     },
     "metadata": {},
     "output_type": "display_data"
    }
   ],
   "source": [
    "## Boxplot \n",
    "df_hitting[df_hitting['ab']>500].boxplot(column='batting_avg',by='year')"
   ]
  },
  {
   "cell_type": "code",
   "execution_count": 13,
   "id": "5fec8ac3",
   "metadata": {
    "tags": []
   },
   "outputs": [
    {
     "data": {
      "text/plain": [
       "array([[<Axes: title={'center': 'p_era'}>]], dtype=object)"
      ]
     },
     "execution_count": 13,
     "metadata": {},
     "output_type": "execute_result"
    },
    {
     "data": {
      "image/png": "[encoded data removed]",
      "text/plain": [
       "<Figure size 640x480 with 1 Axes>"
      ]
     },
     "metadata": {},
     "output_type": "display_data"
    }
   ],
   "source": [
    "## Histogram of ERA (2022)\n",
    "df_pitching_2022[df_pitching_2022['p_formatted_ip'] > 162].hist(column='p_era',bins=20)"
   ]
  },
  {
   "cell_type": "code",
   "execution_count": 14,
   "id": "b3751c3c",
   "metadata": {
    "tags": []
   },
   "outputs": [
    {
     "data": {
      "text/plain": [
       "array([[<Axes: title={'center': 'p_era'}>]], dtype=object)"
      ]
     },
     "execution_count": 14,
     "metadata": {},
     "output_type": "execute_result"
    },
    {
     "data": {
      "image/png": "[encoded data removed]",
      "text/plain": [
       "<Figure size 640x480 with 1 Axes>"
      ]
     },
     "metadata": {},
     "output_type": "display_data"
    }
   ],
   "source": [
    "## Histogram of ERA (2023)\n",
    "df_pitching_2023[df_pitching_2023['p_formatted_ip'] > 162].hist(column='p_era',bins=30)"
   ]
  },
  {
   "cell_type": "code",
   "execution_count": 26,
   "id": "a4cc93ac",
   "metadata": {
    "tags": []
   },
   "outputs": [],
   "source": [
    "## Filtering Down Pitching and unioning together\n",
    "## I wanted to make sure that I filtered the data to those with a big enough sample size of innings pitched, while still keeping it over 40 per year to properly test\n",
    "df_pitching_2023_filtered = df_pitching_2023[df_pitching_2023['p_formatted_ip'] > 150]\n",
    "df_pitching_2022_filtered = df_pitching_2022[df_pitching_2022['p_formatted_ip'] > 150]\n",
    "df_pitching_full = pd.concat([df_pitching_2023_filtered,df_pitching_2022_filtered])\n",
    "df_pitching_raw = pd.concat([df_pitching_2023,df_pitching_2022])"
   ]
  },
  {
   "cell_type": "code",
   "execution_count": 45,
   "id": "ced1c35e",
   "metadata": {
    "tags": []
   },
   "outputs": [
    {
     "data": {
      "text/plain": [
       "year\n",
       "2022    62\n",
       "2023    58\n",
       "Name: count, dtype: int64"
      ]
     },
     "execution_count": 45,
     "metadata": {},
     "output_type": "execute_result"
    }
   ],
   "source": [
    "df_pitching_full['year'].value_counts()"
   ]
  },
  {
   "cell_type": "code",
   "execution_count": 25,
   "id": "f3c9c417-7902-491d-a6f9-8b8b885008ce",
   "metadata": {
    "tags": []
   },
   "outputs": [
    {
     "data": {
      "text/plain": [
       "year\n",
       "2023    808\n",
       "2022    805\n",
       "Name: count, dtype: int64"
      ]
     },
     "execution_count": 25,
     "metadata": {},
     "output_type": "execute_result"
    }
   ],
   "source": [
    "df_pitching_raw['year'].value_counts()"
   ]
  },
  {
   "cell_type": "code",
   "execution_count": 29,
   "id": "8a240407-9129-4458-a51c-7fc7be1afd96",
   "metadata": {
    "tags": []
   },
   "outputs": [
    {
     "data": {
      "text/plain": [
       "<Axes: title={'center': 'p_era'}, xlabel='year'>"
      ]
     },
     "execution_count": 29,
     "metadata": {},
     "output_type": "execute_result"
    },
    {
     "data": {
      "image/png": "[encoded data removed]",
      "text/plain": [
       "<Figure size 640x480 with 1 Axes>"
      ]
     },
     "metadata": {},
     "output_type": "display_data"
    }
   ],
   "source": [
    "## Making a boxplot to look at ERA by year\n",
    "df_pitching_full.boxplot(column='p_era',by='year')"
   ]
  },
  {
   "cell_type": "code",
   "execution_count": 41,
   "id": "649279bd-1f79-443d-9e29-c936faf36e12",
   "metadata": {
    "tags": []
   },
   "outputs": [],
   "source": [
    "## Making an overlayed histogram of ERA\n",
    "myBin = df_pitching_full['year']\n",
    "myScale = df_pitching_full['strikeout']\n"
   ]
  },
  {
   "cell_type": "code",
   "execution_count": 53,
   "id": "5d9a1998-f968-4e87-a72a-e21670b7b2ac",
   "metadata": {
    "tags": []
   },
   "outputs": [
    {
     "data": {
      "text/plain": [
       "year\n",
       "False    62\n",
       "True     58\n",
       "Name: count, dtype: int64"
      ]
     },
     "execution_count": 53,
     "metadata": {},
     "output_type": "execute_result"
    }
   ],
   "source": [
    "year_2022 = myBin == 2022\n",
    "year_2023 = myBin == 2023\n",
    "\n",
    "year_2023.value_counts()"
   ]
  },
  {
   "cell_type": "code",
   "execution_count": 54,
   "id": "b4cd1c64-8d6a-4938-a943-870a39d1314e",
   "metadata": {
    "tags": []
   },
   "outputs": [],
   "source": [
    "era_2022 = myScale[year_2022].dropna()\n",
    "era_2023 = myScale[year_2023].dropna()"
   ]
  },
  {
   "cell_type": "code",
   "execution_count": 62,
   "id": "cd560ed0-5b10-4d33-b122-5a7ab650cd22",
   "metadata": {
    "tags": []
   },
   "outputs": [
    {
     "data": {
      "text/plain": [
       "<matplotlib.legend.Legend at 0x1528692d0>"
      ]
     },
     "execution_count": 62,
     "metadata": {},
     "output_type": "execute_result"
    },
    {
     "data": {
      "image/png": "[encoded data removed]",
      "text/plain": [
       "<Figure size 640x480 with 1 Axes>"
      ]
     },
     "metadata": {},
     "output_type": "display_data"
    }
   ],
   "source": [
    "## Overlayed histogram of ERA\n",
    "plt.hist(era_2022, edgecolor='blue', bins = 30, label = '2022', alpha = .5)\n",
    "plt.hist(era_2023, edgecolor='blue', bins = 30, label = '2023', alpha = .5)\n",
    "plt.legend(loc='upper right')\n"
   ]
  },
  {
   "cell_type": "code",
   "execution_count": 64,
   "id": "06e466e5-9384-48aa-8722-284ebdd3c368",
   "metadata": {
    "tags": []
   },
   "outputs": [
    {
     "data": {
      "text/plain": [
       "<Axes: title={'center': 'strikeout'}, xlabel='year'>"
      ]
     },
     "execution_count": 64,
     "metadata": {},
     "output_type": "execute_result"
    },
    {
     "data": {
      "image/png": "[encoded data removed]",
      "text/plain": [
       "<Figure size 640x480 with 1 Axes>"
      ]
     },
     "metadata": {},
     "output_type": "display_data"
    }
   ],
   "source": [
    "## Making a boxplot to look at Strikeouts by year\n",
    "df_pitching_full.boxplot(column='strikeout',by='year')"
   ]
  },
  {
   "cell_type": "code",
   "execution_count": 71,
   "id": "38d3cb8f-8795-4389-92a5-4156d1261cdf",
   "metadata": {
    "tags": []
   },
   "outputs": [],
   "source": [
    "# Importing libraries for statistical tests\n",
    "from statsmodels.stats.weightstats import ttest_ind\n",
    "import pingouin as pg\n",
    "import scipy.stats as stats"
   ]
  },
  {
   "cell_type": "code",
   "execution_count": 72,
   "id": "86ed15b5-1fe7-48a1-8874-ede2324ab0d0",
   "metadata": {
    "tags": []
   },
   "outputs": [
    {
     "data": {
      "text/plain": [
       "TtestResult(statistic=-3.0250590419131056, pvalue=0.0030514341103168984, df=118.0)"
      ]
     },
     "execution_count": 72,
     "metadata": {},
     "output_type": "execute_result"
    }
   ],
   "source": [
    "## Testing for difference in ERA\n",
    "stats.ttest_ind(a=df_pitching_2022_filtered['p_era'], b=df_pitching_2023_filtered['p_era'], equal_var=True)"
   ]
  },
  {
   "cell_type": "code",
   "execution_count": 74,
   "id": "6ba2cd73-9dd3-4191-8844-40fb6729182a",
   "metadata": {
    "tags": []
   },
   "outputs": [
    {
     "data": {
      "text/plain": [
       "TtestResult(statistic=-3.0250590419131056, pvalue=0.0015257170551584492, df=118.0)"
      ]
     },
     "execution_count": 74,
     "metadata": {},
     "output_type": "execute_result"
    }
   ],
   "source": [
    "## By that test, we can see they are significantly different with 99% confidence\n",
    "## Now, I want to test if 2023 average ERA is significantly higher than 2022\n",
    "stats.ttest_ind(a=df_pitching_2022_filtered['p_era'], b=df_pitching_2023_filtered['p_era'], equal_var=True, alternative='less')"
   ]
  },
  {
   "cell_type": "code",
   "execution_count": 75,
   "id": "adf24707-3347-4cdd-af6f-0f3d93fcbbf5",
   "metadata": {
    "tags": []
   },
   "outputs": [],
   "source": [
    "## We can see that average ERA in 2023 is significantly higher than average ERA in 2022 "
   ]
  },
  {
   "cell_type": "code",
   "execution_count": 76,
   "id": "f550a095-009d-47bd-bd3c-4d93228925c4",
   "metadata": {
    "tags": []
   },
   "outputs": [
    {
     "data": {
      "text/plain": [
       "TtestResult(statistic=-1.1025148648530056, pvalue=0.2724814598749529, df=118.0)"
      ]
     },
     "execution_count": 76,
     "metadata": {},
     "output_type": "execute_result"
    }
   ],
   "source": [
    "## Now, I want to test if strikeouts are significantly different between 2022 and 2023\n",
    "stats.ttest_ind(a=df_pitching_2022_filtered['strikeout'], b=df_pitching_2023_filtered['strikeout'], equal_var=True)"
   ]
  },
  {
   "cell_type": "code",
   "execution_count": 77,
   "id": "523a21fb-982f-4a44-ae27-56ecdc55825d",
   "metadata": {
    "tags": []
   },
   "outputs": [],
   "source": [
    "## These samples are not statistically different, so while the boxplot looks a bit higher for 2023, it isn't different in a statistically significant way"
   ]
  },
  {
   "cell_type": "code",
   "execution_count": 78,
   "id": "accbd2ef-cea3-4341-97a9-9192c556f114",
   "metadata": {
    "tags": []
   },
   "outputs": [],
   "source": [
    "## Now, to look into hitting effectiveness\n",
    "## First, I'm filtering down the dataset only to hitters with over 500 at-bats\n",
    "df_hitting_filtered = df_hitting[df_hitting['ab']>500]"
   ]
  },
  {
   "cell_type": "code",
   "execution_count": 79,
   "id": "5c6c32e5-d428-4007-9e36-dfbd13c85068",
   "metadata": {
    "tags": []
   },
   "outputs": [
    {
     "data": {
      "text/plain": [
       "year\n",
       "2023    95\n",
       "2022    90\n",
       "Name: count, dtype: int64"
      ]
     },
     "execution_count": 79,
     "metadata": {},
     "output_type": "execute_result"
    }
   ],
   "source": [
    "## Making sure the amount of players is enough properly analyze\n",
    "df_hitting_filtered['year'].value_counts()"
   ]
  },
  {
   "cell_type": "code",
   "execution_count": 80,
   "id": "72a8ef8f-899f-4f12-a67a-3d89dbde1d43",
   "metadata": {
    "tags": []
   },
   "outputs": [
    {
     "data": {
      "text/plain": [
       "<Axes: title={'center': 'batting_avg'}, xlabel='year'>"
      ]
     },
     "execution_count": 80,
     "metadata": {},
     "output_type": "execute_result"
    },
    {
     "data": {
      "image/png": "[encoded data removed]",
      "text/plain": [
       "<Figure size 640x480 with 1 Axes>"
      ]
     },
     "metadata": {},
     "output_type": "display_data"
    }
   ],
   "source": [
    "## Boxplot \n",
    "df_hitting_filtered.boxplot(column='batting_avg',by='year')"
   ]
  },
  {
   "cell_type": "code",
   "execution_count": 81,
   "id": "33215924-656e-4a34-bfa9-a8c5d4f059c0",
   "metadata": {
    "tags": []
   },
   "outputs": [],
   "source": [
    "## One immediate observation is there are more outliers on either side in 2023\n",
    "## But the whiskers are shorter in 2023 meaning the distribution is more central"
   ]
  },
  {
   "cell_type": "code",
   "execution_count": 83,
   "id": "0140bdc0-aa77-491c-9fa0-381562dcf31a",
   "metadata": {
    "tags": []
   },
   "outputs": [
    {
     "data": {
      "text/plain": [
       "year\n",
       "True     95\n",
       "False    90\n",
       "Name: count, dtype: int64"
      ]
     },
     "execution_count": 83,
     "metadata": {},
     "output_type": "execute_result"
    }
   ],
   "source": [
    "## Making an overlayed histogram of Batting Average\n",
    "myBin = df_hitting_filtered['year']\n",
    "myScale = df_hitting_filtered['batting_avg']\n",
    "year_2022 = myBin == 2022\n",
    "year_2023 = myBin == 2023\n",
    "\n",
    "year_2023.value_counts()"
   ]
  },
  {
   "cell_type": "code",
   "execution_count": null,
   "id": "56cb3258-16e1-4694-8e4a-0198b5a637b8",
   "metadata": {},
   "outputs": [],
   "source": [
    "## Overlayed histogram of ERA\n",
    "plt.hist(era_2022, edgecolor='blue', bins = 30, label = '2022', alpha = .5)\n",
    "plt.hist(era_2023, edgecolor='blue', bins = 30, label = '2023', alpha = .5)\n",
    "plt.legend(loc='upper right')"
   ]
  }
 ],
 "metadata": {
  "kernelspec": {
   "display_name": "Python 3 (ipykernel)",
   "language": "python",
   "name": "python3"
  },
  "language_info": {
   "codemirror_mode": {
    "name": "ipython",
    "version": 3
   },
   "file_extension": ".py",
   "mimetype": "text/x-python",
   "name": "python",
   "nbconvert_exporter": "python",
   "pygments_lexer": "ipython3",
   "version": "3.11.5"
  }
 },
 "nbformat": 4,
 "nbformat_minor": 5
}
